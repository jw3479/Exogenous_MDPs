{
 "cells": [
  {
   "cell_type": "code",
   "execution_count": 1,
   "metadata": {},
   "outputs": [],
   "source": [
    "import numpy as np\n",
    "from scipy.linalg import svdvals\n",
    "from numpy import linalg as LA"
   ]
  },
  {
   "cell_type": "code",
   "execution_count": 19,
   "metadata": {},
   "outputs": [],
   "source": [
    "M = np.asarray([[0,0,0,0,1,1,1,1],\n",
    "                [1,1,1,1,0,0,0,0,],\n",
    "                [0,0,1,1,0,0,1,1],\n",
    "                [1,1,0,0,1,1,0,0],\n",
    "                [0,1,0,1,0,1,0,1],\n",
    "                [1,0,1,0,1,0,1,0],\n",
    "                [0,1,0,1,0,1,0,1],\n",
    "                [1,0,1,0,1,0,1,0]])"
   ]
  },
  {
   "cell_type": "code",
   "execution_count": 3,
   "metadata": {},
   "outputs": [
    {
     "name": "stdout",
     "output_type": "stream",
     "text": [
      "(8, 8)\n"
     ]
    }
   ],
   "source": [
    "print(M.shape)"
   ]
  },
  {
   "cell_type": "code",
   "execution_count": 4,
   "metadata": {},
   "outputs": [],
   "source": [
    "U, S, Vh = np.linalg.svd(M, full_matrices=True)"
   ]
  },
  {
   "cell_type": "code",
   "execution_count": 5,
   "metadata": {},
   "outputs": [
    {
     "data": {
      "text/plain": [
       "((8, 8), (8,), (8, 8))"
      ]
     },
     "execution_count": 5,
     "metadata": {},
     "output_type": "execute_result"
    }
   ],
   "source": [
    "U.shape, S.shape, Vh.shape"
   ]
  },
  {
   "cell_type": "code",
   "execution_count": 6,
   "metadata": {},
   "outputs": [
    {
     "name": "stdout",
     "output_type": "stream",
     "text": [
      "[4.00000000e+00 2.82842712e+00 2.00000000e+00 2.00000000e+00\n",
      " 2.92628160e-16 1.11228628e-16 3.32603860e-32 0.00000000e+00]\n",
      "[4.         2.82842712 2.         2.        ]\n"
     ]
    }
   ],
   "source": [
    "print(S)\n",
    "\n",
    "S_sub = S[0:4]\n",
    "print(S_sub)\n",
    "S_sub_diag = np.diag(S_sub)"
   ]
  },
  {
   "cell_type": "code",
   "execution_count": 7,
   "metadata": {},
   "outputs": [
    {
     "name": "stdout",
     "output_type": "stream",
     "text": [
      "[[-3.53553391e-01 -2.22044605e-16 -5.00000000e-01 -5.00000000e-01]\n",
      " [-3.53553391e-01  4.99600361e-16  5.00000000e-01  5.00000000e-01]\n",
      " [-3.53553391e-01 -2.35922393e-16 -5.00000000e-01  5.00000000e-01]\n",
      " [-3.53553391e-01  2.77555756e-16  5.00000000e-01 -5.00000000e-01]\n",
      " [-3.53553391e-01  5.00000000e-01 -2.77555756e-16 -8.32667268e-17]\n",
      " [-3.53553391e-01 -5.00000000e-01  1.94289029e-16  5.55111512e-17]\n",
      " [-3.53553391e-01  5.00000000e-01 -2.77555756e-16  2.77555756e-17]\n",
      " [-3.53553391e-01 -5.00000000e-01  1.94289029e-16  5.55111512e-17]]\n"
     ]
    }
   ],
   "source": [
    "U_sub = U[:, 0:4]\n",
    "print(U_sub)"
   ]
  },
  {
   "cell_type": "code",
   "execution_count": 8,
   "metadata": {},
   "outputs": [
    {
     "name": "stdout",
     "output_type": "stream",
     "text": [
      "[[-3.53553391e-01 -3.53553391e-01 -3.53553391e-01 -3.53553391e-01\n",
      "  -3.53553391e-01 -3.53553391e-01 -3.53553391e-01 -3.53553391e-01]\n",
      " [-3.53553391e-01  3.53553391e-01 -3.53553391e-01  3.53553391e-01\n",
      "  -3.53553391e-01  3.53553391e-01 -3.53553391e-01  3.53553391e-01]\n",
      " [ 5.00000000e-01  5.00000000e-01  5.55111512e-17  0.00000000e+00\n",
      "   0.00000000e+00 -2.77555756e-16 -5.00000000e-01 -5.00000000e-01]\n",
      " [ 2.15416017e-16 -1.88480027e-16  5.00000000e-01  5.00000000e-01\n",
      "  -5.00000000e-01 -5.00000000e-01 -2.69750747e-17  1.11022302e-16]]\n"
     ]
    },
    {
     "data": {
      "text/plain": [
       "(4, 8)"
      ]
     },
     "execution_count": 8,
     "metadata": {},
     "output_type": "execute_result"
    }
   ],
   "source": [
    "V_sub = Vh[0:4, :]\n",
    "print(V_sub)\n",
    "V_sub.shape"
   ]
  },
  {
   "cell_type": "code",
   "execution_count": 9,
   "metadata": {},
   "outputs": [
    {
     "data": {
      "text/plain": [
       "(8, 4)"
      ]
     },
     "execution_count": 9,
     "metadata": {},
     "output_type": "execute_result"
    }
   ],
   "source": [
    "U_sub.shape"
   ]
  },
  {
   "cell_type": "code",
   "execution_count": 10,
   "metadata": {},
   "outputs": [
    {
     "data": {
      "text/plain": [
       "(4,)"
      ]
     },
     "execution_count": 10,
     "metadata": {},
     "output_type": "execute_result"
    }
   ],
   "source": [
    "S_sub.shape"
   ]
  },
  {
   "cell_type": "code",
   "execution_count": 11,
   "metadata": {},
   "outputs": [
    {
     "data": {
      "text/plain": [
       "(8,)"
      ]
     },
     "execution_count": 11,
     "metadata": {},
     "output_type": "execute_result"
    }
   ],
   "source": [
    "S.shape"
   ]
  },
  {
   "cell_type": "code",
   "execution_count": 12,
   "metadata": {},
   "outputs": [
    {
     "data": {
      "text/plain": [
       "array([[-0., -0.,  0., -0.,  1.,  1.,  1.,  1.],\n",
       "       [ 1.,  1.,  1.,  1., -0., -0., -0.,  0.],\n",
       "       [ 0., -0.,  1.,  1.,  0., -0.,  1.,  1.],\n",
       "       [ 1.,  1.,  0.,  0.,  1.,  1., -0., -0.],\n",
       "       [ 0.,  1.,  0.,  1.,  0.,  1.,  0.,  1.],\n",
       "       [ 1., -0.,  1., -0.,  1.,  0.,  1., -0.],\n",
       "       [ 0.,  1.,  0.,  1.,  0.,  1.,  0.,  1.],\n",
       "       [ 1., -0.,  1., -0.,  1.,  0.,  1., -0.]])"
      ]
     },
     "execution_count": 12,
     "metadata": {},
     "output_type": "execute_result"
    }
   ],
   "source": [
    "np.around(U_sub @ S_sub_diag @ V_sub, decimals=2, out=None)"
   ]
  },
  {
   "cell_type": "code",
   "execution_count": 61,
   "metadata": {},
   "outputs": [
    {
     "data": {
      "text/plain": [
       "array([[-0.35, -0.  , -0.5 , -0.5 ],\n",
       "       [-0.35,  0.  ,  0.5 ,  0.5 ],\n",
       "       [-0.35, -0.  , -0.5 ,  0.5 ],\n",
       "       [-0.35,  0.  ,  0.5 , -0.5 ],\n",
       "       [-0.35,  0.5 , -0.  , -0.  ],\n",
       "       [-0.35, -0.5 ,  0.  ,  0.  ],\n",
       "       [-0.35,  0.5 , -0.  ,  0.  ],\n",
       "       [-0.35, -0.5 ,  0.  ,  0.  ]])"
      ]
     },
     "execution_count": 61,
     "metadata": {},
     "output_type": "execute_result"
    }
   ],
   "source": [
    "np.around(U_sub, decimals=2, out=None)"
   ]
  },
  {
   "cell_type": "code",
   "execution_count": 62,
   "metadata": {},
   "outputs": [
    {
     "data": {
      "text/plain": [
       "array([[4.  , 0.  , 0.  , 0.  ],\n",
       "       [0.  , 2.83, 0.  , 0.  ],\n",
       "       [0.  , 0.  , 2.  , 0.  ],\n",
       "       [0.  , 0.  , 0.  , 2.  ]])"
      ]
     },
     "execution_count": 62,
     "metadata": {},
     "output_type": "execute_result"
    }
   ],
   "source": [
    "np.around(S_sub_diag, decimals=2, out=None)"
   ]
  },
  {
   "cell_type": "code",
   "execution_count": 66,
   "metadata": {},
   "outputs": [
    {
     "data": {
      "text/plain": [
       "array([[-0.35, -0.35, -0.35, -0.35, -0.35, -0.35, -0.35, -0.35],\n",
       "       [-0.35,  0.35, -0.35,  0.35, -0.35,  0.35, -0.35,  0.35],\n",
       "       [ 0.5 ,  0.5 ,  0.  ,  0.  ,  0.  , -0.  , -0.5 , -0.5 ],\n",
       "       [ 0.  , -0.  ,  0.5 ,  0.5 , -0.5 , -0.5 , -0.  ,  0.  ]])"
      ]
     },
     "execution_count": 66,
     "metadata": {},
     "output_type": "execute_result"
    }
   ],
   "source": [
    "np.around(V_sub, decimals=2, out=None)"
   ]
  },
  {
   "cell_type": "markdown",
   "metadata": {},
   "source": []
  },
  {
   "cell_type": "code",
   "execution_count": 18,
   "metadata": {},
   "outputs": [
    {
     "ename": "LinAlgError",
     "evalue": "Last 2 dimensions of the array must be square",
     "output_type": "error",
     "traceback": [
      "\u001b[0;31m---------------------------------------------------------------------------\u001b[0m",
      "\u001b[0;31mLinAlgError\u001b[0m                               Traceback (most recent call last)",
      "Cell \u001b[0;32mIn[18], line 1\u001b[0m\n\u001b[0;32m----> 1\u001b[0m \u001b[43mnp\u001b[49m\u001b[38;5;241;43m.\u001b[39;49m\u001b[43mlinalg\u001b[49m\u001b[38;5;241;43m.\u001b[39;49m\u001b[43msolve\u001b[49m\u001b[43m(\u001b[49m\u001b[43mV_sub\u001b[49m\u001b[43m,\u001b[49m\u001b[43m \u001b[49m\u001b[43mnp\u001b[49m\u001b[38;5;241;43m.\u001b[39;49m\u001b[43masarray\u001b[49m\u001b[43m(\u001b[49m\u001b[43m[\u001b[49m\u001b[38;5;241;43m0\u001b[39;49m\u001b[43m,\u001b[49m\u001b[38;5;241;43m0\u001b[39;49m\u001b[43m,\u001b[49m\u001b[38;5;241;43m0\u001b[39;49m\u001b[43m,\u001b[49m\u001b[38;5;241;43m0\u001b[39;49m\u001b[43m,\u001b[49m\u001b[38;5;241;43m1\u001b[39;49m\u001b[43m,\u001b[49m\u001b[38;5;241;43m1\u001b[39;49m\u001b[43m,\u001b[49m\u001b[38;5;241;43m1\u001b[39;49m\u001b[43m,\u001b[49m\u001b[38;5;241;43m1\u001b[39;49m\u001b[43m]\u001b[49m\u001b[43m)\u001b[49m\u001b[43m)\u001b[49m\n",
      "File \u001b[0;32m<__array_function__ internals>:200\u001b[0m, in \u001b[0;36msolve\u001b[0;34m(*args, **kwargs)\u001b[0m\n",
      "File \u001b[0;32m~/opt/anaconda3/envs/resource_allocation/lib/python3.8/site-packages/numpy/linalg/linalg.py:373\u001b[0m, in \u001b[0;36msolve\u001b[0;34m(a, b)\u001b[0m\n\u001b[1;32m    371\u001b[0m a, _ \u001b[38;5;241m=\u001b[39m _makearray(a)\n\u001b[1;32m    372\u001b[0m _assert_stacked_2d(a)\n\u001b[0;32m--> 373\u001b[0m \u001b[43m_assert_stacked_square\u001b[49m\u001b[43m(\u001b[49m\u001b[43ma\u001b[49m\u001b[43m)\u001b[49m\n\u001b[1;32m    374\u001b[0m b, wrap \u001b[38;5;241m=\u001b[39m _makearray(b)\n\u001b[1;32m    375\u001b[0m t, result_t \u001b[38;5;241m=\u001b[39m _commonType(a, b)\n",
      "File \u001b[0;32m~/opt/anaconda3/envs/resource_allocation/lib/python3.8/site-packages/numpy/linalg/linalg.py:190\u001b[0m, in \u001b[0;36m_assert_stacked_square\u001b[0;34m(*arrays)\u001b[0m\n\u001b[1;32m    188\u001b[0m m, n \u001b[38;5;241m=\u001b[39m a\u001b[38;5;241m.\u001b[39mshape[\u001b[38;5;241m-\u001b[39m\u001b[38;5;241m2\u001b[39m:]\n\u001b[1;32m    189\u001b[0m \u001b[38;5;28;01mif\u001b[39;00m m \u001b[38;5;241m!=\u001b[39m n:\n\u001b[0;32m--> 190\u001b[0m     \u001b[38;5;28;01mraise\u001b[39;00m LinAlgError(\u001b[38;5;124m'\u001b[39m\u001b[38;5;124mLast 2 dimensions of the array must be square\u001b[39m\u001b[38;5;124m'\u001b[39m)\n",
      "\u001b[0;31mLinAlgError\u001b[0m: Last 2 dimensions of the array must be square"
     ]
    }
   ],
   "source": [
    "np.linalg.solve(V_sub, np.asarray([0,0,0,0,1,1,1,1]))"
   ]
  },
  {
   "cell_type": "code",
   "execution_count": null,
   "metadata": {},
   "outputs": [],
   "source": [
    "np.linalg.solve()"
   ]
  },
  {
   "cell_type": "code",
   "execution_count": 64,
   "metadata": {},
   "outputs": [],
   "source": [
    "def bmatrix(a):\n",
    "    \"\"\"Returns a LaTeX bmatrix\n",
    "\n",
    "    :a: numpy array\n",
    "    :returns: LaTeX bmatrix as a string\n",
    "    \"\"\"\n",
    "    if len(a.shape) > 2:\n",
    "        raise ValueError('bmatrix can at most display two dimensions')\n",
    "    lines = str(a).replace('[', '').replace(']', '').splitlines()\n",
    "    rv = [r'\\begin{bmatrix}']\n",
    "    rv += ['  ' + ' & '.join(l.split()) + r'\\\\' for l in lines]\n",
    "    rv +=  [r'\\end{bmatrix}']\n",
    "    return '\\n'.join(rv)\n"
   ]
  },
  {
   "cell_type": "code",
   "execution_count": 65,
   "metadata": {},
   "outputs": [
    {
     "data": {
      "text/plain": [
       "'\\\\begin{bmatrix}\\n  -0.35 & -0. & -0.5 & -0.5\\\\\\\\\\n  -0.35 & 0. & 0.5 & 0.5\\\\\\\\\\n  -0.35 & -0. & -0.5 & 0.5\\\\\\\\\\n  -0.35 & 0. & 0.5 & -0.5\\\\\\\\\\n  -0.35 & 0.5 & -0. & -0.\\\\\\\\\\n  -0.35 & -0.5 & 0. & 0.\\\\\\\\\\n  -0.35 & 0.5 & -0. & 0.\\\\\\\\\\n  -0.35 & -0.5 & 0. & 0.\\\\\\\\\\n\\\\end{bmatrix}'"
      ]
     },
     "execution_count": 65,
     "metadata": {},
     "output_type": "execute_result"
    }
   ],
   "source": [
    "bmatrix(np.around(U_sub, decimals=2, out=None))"
   ]
  }
 ],
 "metadata": {
  "kernelspec": {
   "display_name": "resource_allocation",
   "language": "python",
   "name": "python3"
  },
  "language_info": {
   "codemirror_mode": {
    "name": "ipython",
    "version": 3
   },
   "file_extension": ".py",
   "mimetype": "text/x-python",
   "name": "python",
   "nbconvert_exporter": "python",
   "pygments_lexer": "ipython3",
   "version": "3.8.undefined"
  }
 },
 "nbformat": 4,
 "nbformat_minor": 2
}
